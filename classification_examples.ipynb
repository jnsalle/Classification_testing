{
 "cells": [
  {
   "cell_type": "code",
   "execution_count": 2,
   "id": "3285712e-3b8d-4014-b29b-aea5de466450",
   "metadata": {},
   "outputs": [],
   "source": [
    "%matplotlib inline\n",
    "import numpy as np\n",
    "import matplotlib.pyplot as plt\n",
    "import pandas as pd\n",
    "from sklearn.model_selection import train_test_split\n",
    "from sklearn.neighbors import KNeighborsClassifier\n",
    "from sklearn.datasets import load_breast_cancer\n",
    "from sklearn.linear_model import LogisticRegression\n",
    "from sklearn.svm import SVC\n",
    "from sklearn.svm import LinearSVC\n",
    "\n",
    "fruits = pd.read_table('data/fruit_data_with_colors.txt')\n",
    "\n",
    "cancer = load_breast_cancer()\n",
    "cancer_df = pd.DataFrame(cancer['data'], columns = cancer['feature_names'])\n",
    "cancer_df['target'] = cancer['target']\n",
    "\n",
    "crime = pd.read_table('CommViolPredUnnormalizedData.txt', sep=',', na_values='?')"
   ]
  },
  {
   "cell_type": "markdown",
   "id": "7fdb0989-90fe-4580-bf4e-b4c57478bd07",
   "metadata": {},
   "source": [
    "# KNN "
   ]
  },
  {
   "cell_type": "code",
   "execution_count": null,
   "id": "4caa849e-0577-40a1-b5f5-440b203fa27e",
   "metadata": {},
   "outputs": [],
   "source": [
    "X = fruits[['height', 'width', 'mass', 'color_score']]\n",
    "y = fruits['fruit_label']\n",
    "X_train, X_test, y_train, y_test = train_test_split(X, y, random_state=0)\n",
    "\n",
    "knn = KNeighborsClassifier(n_neighbors = 5)\n",
    "knn.fit(X_train, y_train)\n",
    "\n",
    "score = knn.score(X_test, y_test)"
   ]
  },
  {
   "cell_type": "code",
   "execution_count": null,
   "id": "8d1f41f8-8d69-4b26-9f5f-d4ca9080bf56",
   "metadata": {},
   "outputs": [],
   "source": [
    "#Test Sensitivity to K\n",
    "k_range = range(1,20)\n",
    "scores = []\n",
    "\n",
    "for k in k_range:\n",
    "    knn = KNeighborsClassifier(n_neighbors = k)\n",
    "    knn.fit(X_train, y_train)\n",
    "    scores.append(knn.score(X_test, y_test))\n",
    "\n",
    "plt.figure()\n",
    "plt.xlabel('k')\n",
    "plt.ylabel('accuracy')\n",
    "plt.scatter(k_range, scores)\n",
    "plt.xticks([0,5,10,15,20]);"
   ]
  },
  {
   "cell_type": "code",
   "execution_count": null,
   "id": "001f582c-8186-4b76-a133-4ab4fb874fdb",
   "metadata": {},
   "outputs": [],
   "source": [
    "#Test sensitivity to train-test split size\n",
    "train_sizes = [0.8, 0.7, 0.6, 0.5, 0.4, 0.3, 0.2]\n",
    "\n",
    "knn = KNeighborsClassifier(n_neighbors = 5)\n",
    "\n",
    "plt.figure()\n",
    "\n",
    "for size in train_sizes:\n",
    "\n",
    "    scores = []\n",
    "    for i in range(1,1000):\n",
    "        X_train, X_test, y_train, y_test = train_test_split(X, y, test_size = 1-size)\n",
    "        knn.fit(X_train, y_train)\n",
    "        scores.append(knn.score(X_test, y_test))\n",
    "    plt.plot(s, np.mean(scores), 'bo')\n",
    "\n",
    "plt.xlabel('Training set proportion (%)')\n",
    "plt.ylabel('accuracy');"
   ]
  },
  {
   "cell_type": "markdown",
   "id": "87eddd5f-c96f-44e7-858e-706d59b98be5",
   "metadata": {},
   "source": [
    "# Logistic Regression"
   ]
  },
  {
   "cell_type": "code",
   "execution_count": null,
   "id": "8d3cfb27-941a-47e3-89b5-4e8968ddbd86",
   "metadata": {},
   "outputs": [],
   "source": [
    "c_vals = [0.1, 1, 100]\n",
    "\n",
    "for c in c_vals:\n",
    "    clf = LogisticRegression(C=c).fit(X_train, y_train)"
   ]
  },
  {
   "cell_type": "markdown",
   "id": "9456f2ef-e4a3-4e20-887e-12d7901bd62f",
   "metadata": {},
   "source": [
    "# Support Vector Machines"
   ]
  },
  {
   "cell_type": "code",
   "execution_count": null,
   "id": "6430ab36-9585-4fdb-8ab8-ba700094ede2",
   "metadata": {},
   "outputs": [],
   "source": [
    "#Adjusting the C parameter\n",
    "clf = SVC(kernel = 'linear', C=this_C).fit(X_train, y_train)\n",
    "#Kernalized SVC\n",
    "SVC(kernel = 'poly', degree = 3)\n",
    "#Gamma param with 'rbf' kernal\n",
    "for this_gamma, subplot in zip([0.01, 1.0, 10.0], subaxes):\n",
    "    clf = SVC(kernel = 'rbf', gamma=this_gamma).fit(X_train, y_train)"
   ]
  },
  {
   "cell_type": "markdown",
   "id": "90852d29-e2e5-45fc-a3bf-214bfea04db6",
   "metadata": {},
   "source": [
    "# Cross-Validation"
   ]
  },
  {
   "cell_type": "code",
   "execution_count": null,
   "id": "ef9ccc98-5dc1-4721-8bf4-4e20488a8d02",
   "metadata": {},
   "outputs": [],
   "source": [
    "from sklearn.model_selection import cross_val_score\n",
    "\n",
    "cv_scores = cross_val_score(clf, X, y)"
   ]
  },
  {
   "cell_type": "markdown",
   "id": "77394f82-2fa5-448a-936d-b3c27e4e2fc1",
   "metadata": {},
   "source": [
    "# Validation Curves"
   ]
  },
  {
   "cell_type": "code",
   "execution_count": null,
   "id": "25349c10-a920-46c5-8236-407c70e3e3fa",
   "metadata": {},
   "outputs": [],
   "source": [
    "from sklearn.model_selection import validation_curve\n",
    "\n",
    "param_range = np.logspace(-3, 3, 4)\n",
    "train_scores, test_scores = validation_curve(SVC(), X, y,\n",
    "                                            param_name='gamma',\n",
    "                                            param_range=param_range, cv=3)"
   ]
  }
 ],
 "metadata": {
  "kernelspec": {
   "display_name": "Python 3 (ipykernel)",
   "language": "python",
   "name": "python3"
  },
  "language_info": {
   "codemirror_mode": {
    "name": "ipython",
    "version": 3
   },
   "file_extension": ".py",
   "mimetype": "text/x-python",
   "name": "python",
   "nbconvert_exporter": "python",
   "pygments_lexer": "ipython3",
   "version": "3.9.12"
  }
 },
 "nbformat": 4,
 "nbformat_minor": 5
}
